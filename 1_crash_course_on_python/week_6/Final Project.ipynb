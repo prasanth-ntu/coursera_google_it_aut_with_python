{
 "cells": [
  {
   "cell_type": "code",
   "execution_count": 1,
   "id": "9f73af0f",
   "metadata": {
    "ExecuteTime": {
     "end_time": "2022-07-09T06:03:52.341801Z",
     "start_time": "2022-07-09T06:03:52.324686Z"
    }
   },
   "outputs": [
    {
     "name": "stdout",
     "output_type": "stream",
     "text": [
      "['Alex', 'Charles', 'Kelly', 'Ray']\n",
      "['Ray', 'Alex', 'Kelly', 'Charles']\n"
     ]
    }
   ],
   "source": [
    "names = ['Charles', 'Alex', 'Kelly', 'Ray']\n",
    "print (sorted(names))\n",
    "print (sorted (names, key=len))"
   ]
  },
  {
   "cell_type": "markdown",
   "id": "a9201f4d",
   "metadata": {},
   "source": [
    "# Writing the Script"
   ]
  },
  {
   "cell_type": "code",
   "execution_count": 36,
   "id": "9dd602f5",
   "metadata": {
    "ExecuteTime": {
     "end_time": "2022-07-09T09:02:55.043400Z",
     "start_time": "2022-07-09T09:02:55.024158Z"
    }
   },
   "outputs": [],
   "source": [
    "# Helper Functions\n",
    "\n",
    "def get_event_date(event):\n",
    "    return event.date\n",
    "\n",
    "def current_users(events):\n",
    "    # Sort events based on the event time\n",
    "    events.sort(key=get_event_date)\n",
    "    \n",
    "    machines = {} # [machine_name: {set_of_users_in_the_machine}]\n",
    "    for event in events:\n",
    "        if event.machine not in machines:\n",
    "            # Contains the current users of the machine\n",
    "            machines[event.machine] = set() \n",
    "        if event.type == \"login\":\n",
    "            machines[event.machine].add(event.user)\n",
    "        elif event.type == \"logout\":\n",
    "            machines[event.machine].remove(event.user)\n",
    "    return machines\n",
    "\n",
    "def generate_report(machines):\n",
    "    for machine, users in machines.items():\n",
    "        if len(users)>0: # To ensure we only print machines with users logged in \n",
    "            user_list = (', '.join(users))\n",
    "            print ('{}: {}'.format(machine, user_list))"
   ]
  },
  {
   "cell_type": "code",
   "execution_count": 37,
   "id": "f9a9ff11",
   "metadata": {
    "ExecuteTime": {
     "end_time": "2022-07-09T09:02:55.162964Z",
     "start_time": "2022-07-09T09:02:55.147413Z"
    }
   },
   "outputs": [],
   "source": [
    "class Event:\n",
    "    def __init__(self, event_date, event_type, machine_name, user):\n",
    "        self.date = event_date\n",
    "        self.type = event_type\n",
    "        self.machine = machine_name\n",
    "        self.user = user"
   ]
  },
  {
   "cell_type": "markdown",
   "id": "3bf46587",
   "metadata": {},
   "source": [
    "And, here are some sample events to check that the code runs correctly."
   ]
  },
  {
   "cell_type": "code",
   "execution_count": 38,
   "id": "a3779c51",
   "metadata": {
    "ExecuteTime": {
     "end_time": "2022-07-09T09:02:55.399640Z",
     "start_time": "2022-07-09T09:02:55.394269Z"
    }
   },
   "outputs": [],
   "source": [
    "events = [\n",
    "    Event('2020-01-21 12:45:56', 'login', 'myworkstation.local', 'jordan'),\n",
    "    Event('2020-01-22 15:53:42', 'logout', 'webserver.local', 'jordan'),\n",
    "    Event('2020-01-21 18:53:21', 'login', 'webserver.local', 'lane'),\n",
    "    Event('2020-01-22 10:25:34', 'logout', 'myworkstation.local', 'jordan'),\n",
    "    Event('2020-01-21 08:20:01', 'login', 'webserver.local', 'jordan'),\n",
    "    Event('2020-01-23 11:24:35', 'login', 'mailserver.local', 'chris')\n",
    "]"
   ]
  },
  {
   "cell_type": "markdown",
   "id": "c4d8ff72",
   "metadata": {},
   "source": [
    "Now, let's call the code and verify that it does what it should."
   ]
  },
  {
   "cell_type": "code",
   "execution_count": 39,
   "id": "7fb2e6f1",
   "metadata": {
    "ExecuteTime": {
     "end_time": "2022-07-09T09:02:55.697312Z",
     "start_time": "2022-07-09T09:02:55.685435Z"
    }
   },
   "outputs": [
    {
     "name": "stdout",
     "output_type": "stream",
     "text": [
      "{'webserver.local': {'lane'}, 'myworkstation.local': set(), 'mailserver.local': {'chris'}}\n"
     ]
    }
   ],
   "source": [
    "machines_and_users = current_users(events)\n",
    "print (machines_and_users)"
   ]
  },
  {
   "cell_type": "code",
   "execution_count": 40,
   "id": "57227ceb",
   "metadata": {
    "ExecuteTime": {
     "end_time": "2022-07-09T09:02:56.147614Z",
     "start_time": "2022-07-09T09:02:56.140829Z"
    }
   },
   "outputs": [
    {
     "name": "stdout",
     "output_type": "stream",
     "text": [
      "webserver.local: lane\n",
      "mailserver.local: chris\n"
     ]
    }
   ],
   "source": [
    "generate_report(machines_and_users)"
   ]
  },
  {
   "cell_type": "markdown",
   "id": "b537fbef",
   "metadata": {
    "ExecuteTime": {
     "end_time": "2022-07-09T08:49:21.248107Z",
     "start_time": "2022-07-09T08:49:21.239078Z"
    }
   },
   "source": [
    "# Final Project Overview"
   ]
  },
  {
   "cell_type": "markdown",
   "id": "f54f77d0",
   "metadata": {
    "ExecuteTime": {
     "end_time": "2022-07-09T09:12:11.435743Z",
     "start_time": "2022-07-09T09:12:11.420549Z"
    }
   },
   "source": [
    "To do's while creating wordcloud: \n",
    "- Remove punctuation marks\n",
    "- Exclude irrelevant or useless words"
   ]
  },
  {
   "cell_type": "markdown",
   "id": "e58f698c",
   "metadata": {},
   "source": [
    "### Final Project Help"
   ]
  },
  {
   "cell_type": "markdown",
   "id": "05fcf6eb",
   "metadata": {
    "ExecuteTime": {
     "end_time": "2022-07-09T09:13:50.834757Z",
     "start_time": "2022-07-09T09:13:50.821288Z"
    }
   },
   "source": [
    "**Project goal**\n",
    "\n",
    "Create a dictionary with words and word frequencies that can be passed to the `generate_from_frequencies` function of the WordCloud class.\n",
    "\n",
    "Once you have the dictionary, use this code to generate the word cloud image:\n",
    "\n",
    "```\n",
    "cloud = wordcloud.WordCloud()\n",
    "cloud.generate_from_frequencies(frequencies)\n",
    "cloud.to_file(\"myfile.jpg\")\n",
    "```"
   ]
  },
  {
   "cell_type": "markdown",
   "id": "8b47a857",
   "metadata": {
    "ExecuteTime": {
     "end_time": "2022-07-09T09:13:50.985733Z",
     "start_time": "2022-07-09T09:13:50.954948Z"
    }
   },
   "source": [
    "**Things to remember **\n",
    "- Before processing any text, you need to remove all the punctuation marks. To do this, you can go through each line of text, character-by-character, using the `isalpha()` method. This will check whether or not the character is a letter.\n",
    "\n",
    "- To split a line of text into words, you can use the `split()` method.\n",
    "\n",
    "- Before storing words in the frequency dictionary, check if they’re part of the \"uninteresting\" set of words (for example: \"a\", \"the\", \"to\", \"if\"). Make this set a parameter to your function so that you can change it if necessary.\n",
    "\n",
    "**Input file**\n",
    "For the input file, you need to provide a file that contains text only. For the text itself, you can copy and paste the contents of a website you like. Or you can use a site like [Project Gutenberg](https://www.gutenberg.org/) to find books that are available online. You could see what word clouds you can get from famous books, like a Shakespeare play or a novel by Jane Austen.\n",
    "\n",
    "Jupyter Notebooks Help\n",
    "Remember that if you need help with Jupyter Notebooks, you can check out this help page."
   ]
  },
  {
   "cell_type": "code",
   "execution_count": 46,
   "id": "411018f9",
   "metadata": {
    "ExecuteTime": {
     "end_time": "2022-07-09T09:33:58.935926Z",
     "start_time": "2022-07-09T09:33:58.923912Z"
    }
   },
   "outputs": [
    {
     "data": {
      "text/plain": [
       "False"
      ]
     },
     "execution_count": 46,
     "metadata": {},
     "output_type": "execute_result"
    }
   ],
   "source": [
    "'abc '.isalpha()"
   ]
  },
  {
   "cell_type": "code",
   "execution_count": null,
   "id": "50591cbc",
   "metadata": {},
   "outputs": [],
   "source": []
  }
 ],
 "metadata": {
  "kernelspec": {
   "display_name": "Python 3 (ipykernel)",
   "language": "python",
   "name": "python3"
  },
  "language_info": {
   "codemirror_mode": {
    "name": "ipython",
    "version": 3
   },
   "file_extension": ".py",
   "mimetype": "text/x-python",
   "name": "python",
   "nbconvert_exporter": "python",
   "pygments_lexer": "ipython3",
   "version": "3.9.4"
  },
  "toc": {
   "base_numbering": 1,
   "nav_menu": {},
   "number_sections": true,
   "sideBar": true,
   "skip_h1_title": false,
   "title_cell": "Table of Contents",
   "title_sidebar": "Contents",
   "toc_cell": false,
   "toc_position": {},
   "toc_section_display": true,
   "toc_window_display": false
  }
 },
 "nbformat": 4,
 "nbformat_minor": 5
}
