{
 "cells": [
  {
   "cell_type": "markdown",
   "metadata": {},
   "source": [
    "# List comprehension"
   ]
  },
  {
   "cell_type": "code",
   "execution_count": 3,
   "metadata": {},
   "outputs": [
    {
     "name": "stdout",
     "output_type": "stream",
     "text": [
      "[6, 4, 2, 4, 1, 4]\n"
     ]
    }
   ],
   "source": [
    "# Find the len of each string in the list\n",
    "\n",
    "languages = ['Python', 'Java', 'Go', 'Ruby', 'C', 'HTML']\n",
    "lengths = [len(language) for language in languages]\n",
    "print (lengths)"
   ]
  },
  {
   "cell_type": "markdown",
   "metadata": {},
   "source": [
    "List comprehension can also be used with **conditionals**."
   ]
  },
  {
   "cell_type": "code",
   "execution_count": 5,
   "metadata": {},
   "outputs": [
    {
     "name": "stdout",
     "output_type": "stream",
     "text": [
      "[0, 3, 6, 9, 12, 15, 18, 21, 24, 27, 30, 33, 36, 39, 42, 45, 48, 51, 54, 57, 60, 63, 66, 69, 72, 75, 78, 81, 84, 87, 90, 93, 96, 99]\n"
     ]
    }
   ],
   "source": [
    "# Find only the numbers between 0 t0 100 that are divisibly by 3\n",
    "\n",
    "x = [x for x in range(101) if x%3==0]\n",
    "print (x)"
   ]
  },
  {
   "cell_type": "markdown",
   "metadata": {},
   "source": [
    "# `list` and `tuple` "
   ]
  },
  {
   "cell_type": "markdown",
   "metadata": {},
   "source": [
    "## Common sequence operations \n",
    "\n",
    "- `len(sequence)` Returns the length of the sequence\n",
    "- `for element in sequence` Iterates over each element in the sequence\n",
    "- `if element in sequence` Checks whether the element is part of the sequence\n",
    "- `sequence[i]` Accesses the element at index i of the sequence, starting at zero\n",
    "- `sequence[i:j]` Accesses a slice starting at index i, ending at index j-1.\n",
    "- If i is omitted, it's `0` by default. If j is omitted, it's `len(sequence)` by default.\n",
    "- `for index, element in enumerate(sequence)` Iterates over both the indexes and the elements in the sequence at the same time"
   ]
  },
  {
   "cell_type": "markdown",
   "metadata": {},
   "source": [
    "## List-specific operations and methods\n",
    "\n",
    "- `list[i] = x` Replaces the element at index i with x\n",
    "- `list.append(x)` Inserts x at the end of the list\n",
    "- `list.insert(i, x)` Inserts x at index i\n",
    "- `list.pop(i)` Returns the element a index i, also removing it from the list. If i is omi tted, the last element is returned and removed.\n",
    "- `list.remove(x)` Removes the first occurrence of x in the list\n",
    "- `list.sort()` Sorts the items in the list\n",
    "- `list.reverse()` Reverses the order of items of the list\n",
    "- `list.clear()` Removes all the items of the list\n",
    "- `list.copy()` Creates a copy of the list\n",
    "- `list.extend(other_list)` Appends all the elements of other_list at the end of list\n"
   ]
  },
  {
   "cell_type": "markdown",
   "metadata": {},
   "source": [
    "# Dictionary\n",
    "## Methods cheatsheet"
   ]
  },
  {
   "cell_type": "markdown",
   "metadata": {},
   "source": [
    "**Operations**\n",
    "\n",
    "- `len(dictionary)` - Returns the number of items in the dictionary\n",
    "- `for key in dictionary` - Iterates over each key in the dictionary\n",
    "- for key, value in dictionary.items() - Iterates over each key,value pair in the dictionary\n",
    "- `if key in dictionary` - Checks whether the key is in the dictionary\n",
    "- `dictionary[key]` - Accesses the item with key key of the dictionary\n",
    "- `dictionary[key] = value` - Sets the value associated with key\n",
    "- `del dictionary[key]` - Removes the item with key key from the dictionary\n",
    "\n",
    "**Methods**\n",
    "- `dict.get(key, default)` - Returns the element corresponding to key, or default if it's not present\n",
    "- `dict.keys()` - Returns a sequence containing the keys in the dictionary\n",
    "- `dict.values()` - Returns a sequence containing the values in the dictionary\n",
    "- `dict.update(other_dictionary)` - Updates the dictionary with the items coming from the other dictionary. Existing entries will be replaced; new entries will be added.\n",
    "- `dict.clear()` - Removes all the items of the dictionary"
   ]
  },
  {
   "cell_type": "markdown",
   "metadata": {},
   "source": [
    "### Dictionary comprehension\n",
    "\n",
    "[Official documentation for dictionary in Python](https://docs.python.org/3/library/stdtypes.html#mapping-types-dict)"
   ]
  },
  {
   "cell_type": "code",
   "execution_count": 18,
   "metadata": {},
   "outputs": [
    {
     "data": {
      "text/plain": [
       "{0: 0, 1: 1, 2: 4, 3: 9, 4: 16, 5: 25, 6: 36, 7: 49, 8: 64, 9: 81}"
      ]
     },
     "execution_count": 18,
     "metadata": {},
     "output_type": "execute_result"
    }
   ],
   "source": [
    "{x: x ** 2 for x in range(10)}"
   ]
  },
  {
   "cell_type": "markdown",
   "metadata": {},
   "source": [
    "*Others*"
   ]
  },
  {
   "cell_type": "code",
   "execution_count": 12,
   "metadata": {},
   "outputs": [
    {
     "name": "stdout",
     "output_type": "stream",
     "text": [
      "['clark.kent@gmail.com', 'diana.prince@gmail.com', 'peter.parker@gmail.com', 'barbara.gordon@yahoo.com', 'jean.grey@yahoo.com', 'bruce.wayne@hotmail.com']\n"
     ]
    }
   ],
   "source": [
    "def email_list(domains):\n",
    "    emails = []\n",
    "    for key,value in domains.items():\n",
    "        users = value\n",
    "        domain = key\n",
    "        for user in users:\n",
    "            emails.append('{}@{}'.format(user,domain))\n",
    "    return(emails)\n",
    "\n",
    "print(email_list({\"gmail.com\": [\"clark.kent\", \"diana.prince\", \"peter.parker\"], \"yahoo.com\": [\"barbara.gordon\", \"jean.grey\"], \"hotmail.com\": [\"bruce.wayne\"]}))"
   ]
  },
  {
   "cell_type": "code",
   "execution_count": 14,
   "metadata": {},
   "outputs": [
    {
     "data": {
      "text/plain": [
       "{'shirt': ['red', 'blue', 'white'],\n",
       " 'jeans': ['white'],\n",
       " 'scarf': ['yellow'],\n",
       " 'socks': ['black', 'brown']}"
      ]
     },
     "execution_count": 14,
     "metadata": {},
     "output_type": "execute_result"
    }
   ],
   "source": [
    "wardrobe = {'shirt': ['red', 'blue', 'white'], 'jeans': ['blue', 'black']}\n",
    "new_items = {'jeans': ['white'], 'scarf': ['yellow'], 'socks': ['black', 'brown']}\n",
    "wardrobe.update(new_items)\n",
    "wardrobe"
   ]
  }
 ],
 "metadata": {
  "kernelspec": {
   "display_name": "Python 3.7.7 ('ga')",
   "language": "python",
   "name": "python3"
  },
  "language_info": {
   "codemirror_mode": {
    "name": "ipython",
    "version": 3
   },
   "file_extension": ".py",
   "mimetype": "text/x-python",
   "name": "python",
   "nbconvert_exporter": "python",
   "pygments_lexer": "ipython3",
   "version": "3.7.7"
  },
  "orig_nbformat": 4,
  "vscode": {
   "interpreter": {
    "hash": "c4850f673f0c37c61f7022b6a97465ea37b50ee67af979233e222dc2dd16a2b2"
   }
  }
 },
 "nbformat": 4,
 "nbformat_minor": 2
}
